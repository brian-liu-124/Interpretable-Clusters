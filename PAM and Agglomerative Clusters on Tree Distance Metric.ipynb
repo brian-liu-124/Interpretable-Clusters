{
 "cells": [
  {
   "cell_type": "markdown",
   "metadata": {},
   "source": [
    "# Load Required Packages"
   ]
  },
  {
   "cell_type": "code",
   "execution_count": 237,
   "metadata": {},
   "outputs": [
    {
     "name": "stdout",
     "output_type": "stream",
     "text": [
      "['/Users/brianliu/Desktop/Interpretable Clusters', '/opt/anaconda3/lib/python37.zip', '/opt/anaconda3/lib/python3.7', '/opt/anaconda3/lib/python3.7/lib-dynload', '', '/opt/anaconda3/lib/python3.7/site-packages', '/opt/anaconda3/lib/python3.7/site-packages/IPython/extensions', '/Users/brianliu/.ipython', '/Users', '/anaconda3/lib/python3.6/site-packages', '/Users']\n"
     ]
    }
   ],
   "source": [
    "import numpy as np\n",
    "import pandas as pd\n",
    "import matplotlib.pyplot as plt\n",
    "import seaborn as sns\n",
    "import scipy.stats as sc\n",
    "import shap\n",
    "import lime\n",
    "import sklearn \n",
    "import warnings\n",
    "import xgboost\n",
    "import itertools\n",
    "import gc\n",
    "\n",
    "import multiprocessing as mp\n",
    "import time\n",
    "import pickle \n",
    "import interpret\n",
    "import collections\n",
    "import math\n",
    "import random\n",
    "from sklearn.linear_model import LogisticRegression\n",
    "from sklearn.linear_model import LinearRegression\n",
    "from sklearn.model_selection import train_test_split\n",
    "from sklearn.metrics import confusion_matrix\n",
    "from sklearn.metrics import accuracy_score\n",
    "from sklearn.metrics import f1_score\n",
    "from sklearn.ensemble import RandomForestClassifier\n",
    "from sklearn.ensemble import  RandomForestRegressor\n",
    "from sklearn.svm import SVC, LinearSVC\n",
    "from sklearn import preprocessing\n",
    "from interpret.glassbox import ExplainableBoostingClassifier\n",
    "from interpret import show\n",
    "from sklearn.preprocessing import LabelEncoder\n",
    "from interpret.glassbox import ExplainableBoostingRegressor\n",
    "from interpret import show\n",
    "from sklearn.ensemble import GradientBoostingRegressor\n",
    "from sklearn.ensemble import GradientBoostingClassifier\n",
    "from sklearn.tree import DecisionTreeClassifier\n",
    "\n",
    "from sklearn.ensemble import AdaBoostRegressor\n",
    "%matplotlib inline\n",
    "import os, sys\n",
    "#import statsmodels.api as sm\n",
    "sys.path.append(os.path.abspath(\"../../../\"))\n",
    "\n",
    "pd.set_option('display.max_columns', None)\n",
    "import eli5\n",
    "from eli5.sklearn import PermutationImportance\n",
    "\n",
    "import sys\n",
    "print(sys.path)\n",
    "sys.path.append(\"/anaconda3/lib/python3.6/site-packages\")\n"
   ]
  },
  {
   "cell_type": "markdown",
   "metadata": {},
   "source": [
    "# Load Test Data"
   ]
  },
  {
   "cell_type": "code",
   "execution_count": 238,
   "metadata": {},
   "outputs": [],
   "source": [
    "titanic = pd.read_csv('titanic_data.csv')\n",
    "#titanic\n",
    "full_data = titanic\n",
    "full_data = full_data.drop(['PassengerId'], axis=1)\n",
    "\n",
    "import re\n",
    "deck = {\"A\": 1, \"B\": 2, \"C\": 3, \"D\": 4, \"E\": 5, \"F\": 6, \"G\": 7, \"U\": 8}\n",
    "full_data['Cabin'] = full_data['Cabin'].fillna(\"U0\")\n",
    "full_data['Deck'] = full_data['Cabin'].map(lambda x: re.compile(\"([a-zA-Z]+)\").search(x).group())\n",
    "full_data['Deck'] = full_data['Deck'].map(deck)\n",
    "full_data['Deck'] = full_data['Deck'].fillna(0)\n",
    "full_data['Deck'] = full_data['Deck'].astype(int)\n",
    "\n",
    "full_data = full_data.drop('Cabin', axis = 1)\n",
    "\n",
    "mean = full_data[\"Age\"].mean()\n",
    "std = full_data[\"Age\"].std()\n",
    "is_null = full_data[\"Age\"].isnull().sum()\n",
    "# compute random numbers between the mean, std and is_null\n",
    "rand_age = np.random.randint(mean - std, mean + std, size = is_null)\n",
    "# fill NaN values in Age column with random values generated\n",
    "age_slice = full_data[\"Age\"].copy()\n",
    "age_slice[np.isnan(age_slice)] = rand_age\n",
    "full_data[\"Age\"] = age_slice\n",
    "full_data[\"Age\"] = full_data[\"Age\"].astype(int)\n",
    "full_data[\"Age\"].isnull().sum()\n",
    "full_data['Embarked'] = full_data['Embarked'].fillna('S')\n",
    "\n",
    "\n",
    "full_data['Fare'] = full_data['Fare'].fillna(0)\n",
    "full_data['Fare'] = full_data['Fare'].astype(int)\n",
    "full_data = full_data.drop(['Name'], axis=1)\n",
    "full_data = full_data.drop(['Ticket'], axis=1)\n",
    "full_data['Sex'] = full_data['Sex'].map({\"male\": 0, \"female\": 1})\n",
    "\n",
    "\n",
    "full_data_train,full_data_test = train_test_split(full_data,test_size = 0.3,random_state = 10)\n",
    "\n",
    "full_data = pd.get_dummies(full_data,columns = ['Pclass','Embarked','Deck'])\n",
    "full_data = full_data.dropna().reset_index().drop('index',axis = 1)\n",
    "X = full_data.drop('Survived',axis = 1)\n",
    "cols = X.columns\n",
    "y = full_data['Survived']\n",
    "scaler = preprocessing.StandardScaler()\n",
    "X = scaler.fit_transform(X)\n",
    "X =pd.DataFrame(X, columns = cols)\n",
    "xTrain, xTest, yTrain, yTest = train_test_split(X,y, test_size = 0.3,random_state = 10)\n"
   ]
  },
  {
   "cell_type": "markdown",
   "metadata": {},
   "source": [
    "https://scikit-learn.org/dev/auto_examples/tree/plot_unveil_tree_structure.html"
   ]
  },
  {
   "cell_type": "markdown",
   "metadata": {},
   "source": [
    "# Random Forest With Tree Distances"
   ]
  },
  {
   "cell_type": "code",
   "execution_count": 240,
   "metadata": {},
   "outputs": [],
   "source": [
    "def get_node_depths(tree1):\n",
    "    def get_node_depths_(current_node, current_depth, l, r, depths):\n",
    "        depths += [current_depth]\n",
    "        if l[current_node] != -1 and r[current_node] != -1:\n",
    "            get_node_depths_(l[current_node], current_depth + 1, l, r, depths)\n",
    "            get_node_depths_(r[current_node], current_depth + 1, l, r, depths)\n",
    "    depths = []\n",
    "    get_node_depths_(0, 0, tree1.tree_.children_left, tree1.tree_.children_right, depths) \n",
    "    return np.array(depths)\n",
    "\n",
    "def get_shared_nodes(i1,i2,node_indicator,n_nodes):\n",
    "    sample_ids = [i1, i2]\n",
    "    common_nodes = (node_indicator.toarray()[sample_ids].sum(axis=0) ==\n",
    "                    len(sample_ids))\n",
    "    \n",
    "    common_node_id = np.arange(n_nodes)[common_nodes]\n",
    "    \n",
    "    return common_node_id\n",
    "\n",
    "# Tree distance between nodes n1, n2 = depth(n1) + depth(n2) - 2 depth(LCA)\n",
    "def distance_between_samples(indexes,depths,leaves,node_indicator,n_nodes):\n",
    "    i1 = indexes[0]\n",
    "    i2 = indexes[1]\n",
    "    leaf_node1 = leaves[i1]\n",
    "    leaf_node2 = leaves[i2]\n",
    "    depth_node1 = depths[leaf_node1]\n",
    "    depth_node2 = depths[leaf_node2]\n",
    "    ancestors = get_shared_nodes(i1,i2,node_indicator,n_nodes)\n",
    "    depth_LCA = max(depths[ancestors])\n",
    "    \n",
    "    dist = depth_node1 + depth_node2 - 2*depth_LCA\n",
    "    \n",
    "    return dist"
   ]
  },
  {
   "cell_type": "code",
   "execution_count": 241,
   "metadata": {},
   "outputs": [],
   "source": [
    "# bootstraps data and builds a tree, then calculates pairwise distances on the data instances relative to the tree\n",
    "# Tree distance is calculated via lowest common ancestor\n",
    "def build_tree(xTrain,yTrain,xTest,X):\n",
    "    train = xTrain.copy()\n",
    "    train['y'] = yTrain\n",
    "    train1 = train.sample(n = len(train), replace = True) \n",
    "    yTrain1 = train1['y']\n",
    "    xTrain1 = train1.drop('y',axis = 1)\n",
    "    gc.collect()\n",
    "    estimator = DecisionTreeClassifier().fit(xTrain1,yTrain1)\n",
    "    n_nodes = estimator.tree_.node_count\n",
    "    depths = get_node_depths(estimator)\n",
    "    leaves_train = estimator.apply(xTrain)\n",
    "    leaves_test = estimator.apply(xTest)\n",
    "    node_indicator_test = estimator.decision_path(xTest)\n",
    "    node_indicator_train = estimator.decision_path(xTrain)\n",
    "    train_comb = list(itertools.combinations(range(0,len(xTrain)), 2))\n",
    "    test_comb = list(itertools.combinations(range(0,len(xTest)), 2))\n",
    "\n",
    "    ### Train Distances\n",
    "    train_distances = []\n",
    "    for indexes in train_comb:\n",
    "        dist = distance_between_samples(indexes,depths,leaves_train,node_indicator_train,n_nodes)\n",
    "        train_distances.append([indexes[0],indexes[1],dist])\n",
    "\n",
    "    ### Test Distances\n",
    "    test_distances = []\n",
    "    for indexes in test_comb:\n",
    "        dist = distance_between_samples(indexes,depths,leaves_test,node_indicator_test,n_nodes)\n",
    "        test_distances.append([indexes[0],indexes[1],dist])\n",
    "\n",
    "    train_dist_df = pd.DataFrame(train_distances, columns = ['i1','i2','tree_dist'])\n",
    "    test_dist_df = pd.DataFrame(test_distances, columns = ['i1','i2','tree_dist'])\n",
    "    \n",
    "    leaves_all = estimator.apply(X)\n",
    "    node_indicator_all = estimator.decision_path(X)\n",
    "    dist_args = [depths,leaves_all,node_indicator_all,n_nodes]\n",
    "    \n",
    "    return([estimator,train_dist_df,test_dist_df,dist_args])"
   ]
  },
  {
   "cell_type": "code",
   "execution_count": 242,
   "metadata": {},
   "outputs": [],
   "source": [
    "def fit_random_forest(xTrain,yTrain,num_trees,xTest,X):\n",
    "    i = 0\n",
    "    mods = []\n",
    "    dist_args = []\n",
    "    train_dists = pd.DataFrame()\n",
    "    test_dists = pd.DataFrame()\n",
    "    while i <= num_trees:\n",
    "        tree = build_tree(xTrain,yTrain,xTest,X)\n",
    "        mods.append(tree[0])\n",
    "        train_dists = train_dists.append(tree[1])\n",
    "        test_dists = test_dists.append(tree[2])\n",
    "        dist_args.append(tree[3])\n",
    "        i = i+1\n",
    "    train_final_dist = train_dists.groupby(['i1','i2']).mean().reset_index()\n",
    "    test_final_dist = test_dists.groupby(['i1','i2']).mean().reset_index()\n",
    "    return(mods,train_final_dist,test_final_dist,dist_args)\n",
    "\n",
    "def rf_predict(xTest,mods):\n",
    "    pred = []\n",
    "    for clf in mods:\n",
    "        pred.append(clf.predict(xTest))\n",
    "    pred = np.mean(pred,axis = 0)\n",
    "    pred = [int(x) for x in pred>=0.5]\n",
    "    return pred"
   ]
  },
  {
   "cell_type": "code",
   "execution_count": 243,
   "metadata": {},
   "outputs": [],
   "source": [
    "# Build Trees and Calculate Distances\n",
    "\n",
    "mods,train_final_dist,test_final_dist,dist_args = fit_random_forest(xTrain,yTrain,10,xTest,X)\n",
    "train_final_dist = train_final_dist.groupby(['i1','i2']).mean().reset_index()\n",
    "test_final_dist = test_final_dist.groupby(['i1','i2']).mean().reset_index()\n",
    "\n",
    "test_final_dist1 = test_final_dist.copy()\n",
    "test_final_dist1['i1'] = test_final_dist['i2']\n",
    "test_final_dist1['i2'] = test_final_dist['i1']\n",
    "test_final_dist = test_final_dist.append(test_final_dist1)\n",
    "dist = np.zeros(shape = (max(test_final_dist['i1'])+1,max(test_final_dist['i1'])+1))\n",
    "for i in range(0,len(test_final_dist)):\n",
    "    temp = test_final_dist.iloc[i]\n",
    "    i1 = int(temp['i1'])\n",
    "    i2 = int(temp['i2'])\n",
    "    tree_dist = temp['tree_dist']\n",
    "    dist[i1][i2] = tree_dist\n",
    "\n",
    "train_final_dist1 = train_final_dist.copy()\n",
    "train_final_dist1['i1'] = train_final_dist['i2']\n",
    "train_final_dist1['i2'] = train_final_dist['i1']\n",
    "train_final_dist = train_final_dist.append(train_final_dist1)\n",
    "dist_train = np.zeros(shape = (max(train_final_dist['i1'])+1,max(train_final_dist['i1'])+1))\n",
    "for i in range(0,len(train_final_dist)):\n",
    "    temp = train_final_dist.iloc[i]\n",
    "    i1 = int(temp['i1'])\n",
    "    i2 = int(temp['i2'])\n",
    "    tree_dist = temp['tree_dist']\n",
    "    dist_train[i1][i2] = tree_dist\n"
   ]
  },
  {
   "cell_type": "markdown",
   "metadata": {},
   "source": [
    "# Agglomerative Clustering"
   ]
  },
  {
   "cell_type": "code",
   "execution_count": 244,
   "metadata": {},
   "outputs": [
    {
     "name": "stdout",
     "output_type": "stream",
     "text": [
      "clust\n",
      "0    0.743363\n",
      "1    0.109312\n",
      "2    0.353333\n",
      "Name: y, dtype: float64\n",
      "clust\n",
      "0    226\n",
      "1    247\n",
      "2    150\n",
      "Name: y, dtype: int64\n"
     ]
    },
    {
     "name": "stderr",
     "output_type": "stream",
     "text": [
      "scipy.cluster: The symmetric non-negative hollow observation matrix looks suspiciously like an uncondensed distance matrix\n"
     ]
    }
   ],
   "source": [
    "### Test quality of cluster agglomerative clustering\n",
    "from sklearn.cluster import AgglomerativeClustering\n",
    "clustering = AgglomerativeClustering(n_clusters = 3).fit(dist_train)\n",
    "clusters = pd.DataFrame(np.column_stack((yTrain,clustering.labels_)),columns = ['y','clust'])\n",
    "acc_clust = clusters.groupby('clust').mean()['y']\n",
    "cont_clust =clusters.groupby('clust').count()['y']\n",
    "print(acc_clust)\n",
    "print(cont_clust)\n"
   ]
  },
  {
   "cell_type": "markdown",
   "metadata": {},
   "source": [
    "# Partitioning About Mediods\n",
    "https://en.wikipedia.org/wiki/K-medoids#Demonstration_of_PAM"
   ]
  },
  {
   "cell_type": "code",
   "execution_count": 245,
   "metadata": {},
   "outputs": [
    {
     "name": "stdout",
     "output_type": "stream",
     "text": [
      "     \n",
      "train\n",
      "clust\n",
      "0.0    0.114815\n",
      "1.0    0.743363\n",
      "2.0    0.385827\n",
      "Name: y, dtype: float64\n",
      "clust\n",
      "0.0    270\n",
      "1.0    226\n",
      "2.0    127\n",
      "Name: y, dtype: int64\n",
      "   \n",
      "test\n",
      "clust\n",
      "0    0.254717\n",
      "1    0.716981\n",
      "2    0.666667\n",
      "Name: y, dtype: float64\n",
      "clust\n",
      "0    212\n",
      "1     53\n",
      "2      3\n",
      "Name: y, dtype: int64\n"
     ]
    }
   ],
   "source": [
    "### PAM test\n",
    "from pyclustering.cluster.kmedoids import kmedoids\n",
    "from pyclustering.cluster import cluster_visualizer\n",
    "from pyclustering.utils import read_sample\n",
    "\n",
    "cluster_list = np.zeros(len(dist_train))\n",
    "initial_medoids = []\n",
    "nclusters = 3\n",
    "for i in range(nclusters):\n",
    "    initial_medoids.append(random.randint(0,len(dist_train)-1))\n",
    "\n",
    "\n",
    "kmedoids_instance = kmedoids(dist_train, initial_medoids, data_type='distance_matrix')\n",
    "kmedoids_instance.process()\n",
    "clusters = kmedoids_instance.get_clusters()\n",
    "medoids = kmedoids_instance.get_medoids()\n",
    "\n",
    "cluster_list\n",
    "for i in range(len(clusters)):\n",
    "    cluster_list[clusters[i]] = i\n",
    "\n",
    "clusters = pd.DataFrame(np.column_stack((yTrain,cluster_list)),columns = ['y','clust'])\n",
    "acc_clust = clusters.groupby('clust').mean()['y']\n",
    "cont_clust =clusters.groupby('clust').count()['y']\n",
    "print('     ')\n",
    "print('train')\n",
    "print(acc_clust)\n",
    "print(cont_clust)\n",
    "\n",
    "centers = np.array(xTrain.iloc[medoids])\n",
    "test_clust = []\n",
    "for i in range(len(xTest)):\n",
    "    temp = np.array(xTest.iloc[i])\n",
    "    dist_list = []\n",
    "    for i in range(len(centers)):\n",
    "        dist_list.append(np.mean((temp - centers[i])**2))\n",
    "    test_clust.append(dist_list.index(min(dist_list)))\n",
    "test_clust\n",
    "\n",
    "print('   ')\n",
    "print('test')\n",
    "clusters = pd.DataFrame(np.column_stack((yTest,test_clust)),columns = ['y','clust'])\n",
    "acc_clust = clusters.groupby('clust').mean()['y']\n",
    "cont_clust =clusters.groupby('clust').count()['y']\n",
    "print(acc_clust)\n",
    "print(cont_clust)"
   ]
  },
  {
   "cell_type": "code",
   "execution_count": 398,
   "metadata": {},
   "outputs": [],
   "source": [
    "### PAM Function\n",
    "def PAM_clusters(dist_train,nclusters,xTest,yTest):\n",
    "    cluster_list = np.zeros(len(dist_train))\n",
    "    initial_medoids = []\n",
    "    for i in range(nclusters):\n",
    "        initial_medoids.append(random.randint(0,len(dist_train)-1))\n",
    "    kmedoids_instance = kmedoids(dist_train, initial_medoids, data_type='distance_matrix')\n",
    "    kmedoids_instance.process()\n",
    "    clusters = kmedoids_instance.get_clusters()\n",
    "    medoids = kmedoids_instance.get_medoids()\n",
    "    # medoids in Train set\n",
    "    clusts = []\n",
    "    for i in xTest.index:\n",
    "        dist_temp = []\n",
    "        for j in medoids:\n",
    "            dist_trees = []\n",
    "            for arg in dist_args:\n",
    "                indexes = [i,j]\n",
    "                depths = arg[0]\n",
    "                leaves = arg[1]\n",
    "                node_indicator = arg[2]\n",
    "                n_nodes = arg[3]\n",
    "                dist_trees.append(distance_between_samples(indexes,depths,leaves,node_indicator,n_nodes))\n",
    "            dist_temp.append(np.mean(dist_trees))\n",
    "        clusts.append(dist_temp.index(min(dist_temp)))\n",
    "\n",
    "    #evaluate accuracy\n",
    "    clusters = pd.DataFrame(np.column_stack((yTest,clusts)),columns = ['y','clust'])\n",
    "    acc_clust = clusters.groupby('clust').mean()['y']\n",
    "    cont_clust =clusters.groupby('clust').count()['y']\n",
    "    if (sum(cont_clust > 2) == len(cont_clust)):\n",
    "        pred = round(acc_clust).to_dict()\n",
    "        clusters['pred'] = clusters['clust'].map(pred)\n",
    "        acc = np.mean(clusters['y']==clusters['pred'])\n",
    "        return acc\n",
    "    if (sum(cont_clust > 2) != len(cont_clust)):\n",
    "        return None\n"
   ]
  },
  {
   "cell_type": "markdown",
   "metadata": {},
   "source": [
    "# Experiement Comparing PAM clusters to Decision Tree"
   ]
  },
  {
   "cell_type": "code",
   "execution_count": 413,
   "metadata": {},
   "outputs": [],
   "source": [
    "# Run Experiment for Decision Tree\n",
    "tree_acc = []\n",
    "n_arr = []\n",
    "clust_acc = []\n",
    "for d in range(1,10):\n",
    "    ntrials = 0\n",
    "    while ntrials < 5:\n",
    "        tree1 = DecisionTreeClassifier(max_depth = d).fit(xTrain,yTrain)\n",
    "        n = tree1.get_n_leaves()\n",
    "        n_arr.append(n)\n",
    "        tree_acc.append(np.mean(yTest == tree1.predict(xTest)))\n",
    "\n",
    "        \n",
    "        ntrials = ntrials+1\n",
    "            \n",
    "results = pd.DataFrame(np.column_stack((n_arr,tree_acc)),columns = ['n_clust','tree_acc'])\n",
    "means = results.groupby('n_clust').mean()\n",
    "standards = results.groupby('n_clust').std()"
   ]
  },
  {
   "cell_type": "code",
   "execution_count": 411,
   "metadata": {},
   "outputs": [],
   "source": [
    "# Run Experiment for PAM\n",
    "n_clust_arr = []\n",
    "clust_acc = []\n",
    "for n_clust in range(2,30):\n",
    "    trial = 0\n",
    "    while trial < 10:\n",
    "        clust_acc.append(PAM_clusters(dist_train,n_clust,xTest,yTest))\n",
    "        n_clust_arr.append(n_clust)\n",
    "        trial = trial + 1\n",
    "clust_results = pd.DataFrame(np.column_stack((n_clust_arr,clust_acc)),columns = ['n_clust','clust_acc'])\n",
    "clust_results = clust_results.dropna(subset = ['clust_acc'])\n",
    "clust_results['clust_acc'] = clust_results['clust_acc'].astype(float)\n",
    "means_clust = clust_results.groupby('n_clust').mean()\n",
    "standards_clust = clust_results.groupby('n_clust').std()\n",
    "clust_results['clust_acc'] = clust_results['clust_acc'].astype(float)"
   ]
  },
  {
   "cell_type": "code",
   "execution_count": 414,
   "metadata": {},
   "outputs": [
    {
     "data": {
      "text/plain": [
       "Text(0.5, 0, 'number of clusters')"
      ]
     },
     "execution_count": 414,
     "metadata": {},
     "output_type": "execute_result"
    },
    {
     "data": {
      "image/png": "[encoded data removed]",
      "text/plain": [
       "<Figure size 1152x720 with 1 Axes>"
      ]
     },
     "metadata": {
      "needs_background": "light"
     },
     "output_type": "display_data"
    }
   ],
   "source": [
    "#Plots\n",
    "plt.figure(figsize = (16,10))\n",
    "plt.plot(means.index,means['tree_acc'],label = 'Decision Tree',color = 'green')\n",
    "plt.errorbar(means.index,means['tree_acc'], standards['tree_acc'],color = 'green')\n",
    "\n",
    "plt.plot(means_clust.index,means_clust['clust_acc'],label = 'PAM',color = 'blue')\n",
    "plt.errorbar(means_clust.index,means_clust['clust_acc'], standards_clust['clust_acc'],color = 'blue')\n",
    "plt.legend()\n",
    "plt.xlabel('number of clusters')"
   ]
  },
  {
   "cell_type": "code",
   "execution_count": null,
   "metadata": {},
   "outputs": [],
   "source": []
  }
 ],
 "metadata": {
  "kernelspec": {
   "display_name": "Python 3",
   "language": "python",
   "name": "python3"
  },
  "language_info": {
   "codemirror_mode": {
    "name": "ipython",
    "version": 3
   },
   "file_extension": ".py",
   "mimetype": "text/x-python",
   "name": "python",
   "nbconvert_exporter": "python",
   "pygments_lexer": "ipython3",
   "version": "3.7.4"
  }
 },
 "nbformat": 4,
 "nbformat_minor": 4
}
